{
 "cells": [
  {
   "cell_type": "code",
   "execution_count": 2,
   "id": "c8fc5132",
   "metadata": {},
   "outputs": [
    {
     "name": "stderr",
     "output_type": "stream",
     "text": [
      "WARNING ⚠️ 'hide_labels' is deprecated and will be removed in 'ultralytics 8.2' in the future. Please use 'show_labels' instead.\n",
      "\n",
      "image 1/1 /N/u/athshah/BigRed200/DCGAN/seed0003.png: 640x640 67 nucleuss, 123.1ms\n",
      "Speed: 8.0ms preprocess, 123.1ms inference, 42.9ms postprocess per image at shape (1, 3, 640, 640)\n",
      "Results saved to \u001b[1mruns/segment/predict19\u001b[0m\n"
     ]
    },
    {
     "data": {
      "text/plain": [
       "[ultralytics.engine.results.Results object with attributes:\n",
       " \n",
       " boxes: ultralytics.engine.results.Boxes object\n",
       " keypoints: None\n",
       " masks: ultralytics.engine.results.Masks object\n",
       " names: {0: 'nucleus'}\n",
       " orig_img: array([[[186, 144, 167],\n",
       "         [189, 140, 164],\n",
       "         [186, 137, 156],\n",
       "         ...,\n",
       "         [165, 110, 133],\n",
       "         [169, 115, 140],\n",
       "         [175, 131, 153]],\n",
       " \n",
       "        [[180, 137, 156],\n",
       "         [180, 127, 145],\n",
       "         [172, 117, 132],\n",
       "         ...,\n",
       "         [160,  98, 123],\n",
       "         [164, 104, 131],\n",
       "         [168, 116, 139]],\n",
       " \n",
       "        [[174, 127, 148],\n",
       "         [169, 116, 133],\n",
       "         [161, 106, 120],\n",
       "         ...,\n",
       "         [158,  98, 117],\n",
       "         [162, 104, 124],\n",
       "         [162, 110, 129]],\n",
       " \n",
       "        ...,\n",
       " \n",
       "        [[188, 146, 172],\n",
       "         [192, 145, 170],\n",
       "         [188, 140, 161],\n",
       "         ...,\n",
       "         [179, 136, 148],\n",
       "         [177, 133, 149],\n",
       "         [179, 137, 157]],\n",
       " \n",
       "        [[189, 146, 173],\n",
       "         [193, 144, 171],\n",
       "         [189, 140, 162],\n",
       "         ...,\n",
       "         [178, 130, 149],\n",
       "         [179, 133, 154],\n",
       "         [184, 142, 163]],\n",
       " \n",
       "        [[190, 154, 176],\n",
       "         [193, 150, 174],\n",
       "         [190, 146, 167],\n",
       "         ...,\n",
       "         [181, 138, 162],\n",
       "         [182, 140, 165],\n",
       "         [184, 146, 167]]], dtype=uint8)\n",
       " orig_shape: (512, 512)\n",
       " path: '/N/u/athshah/BigRed200/DCGAN/seed0003.png'\n",
       " probs: None\n",
       " save_dir: 'runs/segment/predict19'\n",
       " speed: {'preprocess': 7.958173751831055, 'inference': 123.08049201965332, 'postprocess': 42.94943809509277}]"
      ]
     },
     "execution_count": 2,
     "metadata": {},
     "output_type": "execute_result"
    }
   ],
   "source": [
    "import torch\n",
    "from ultralytics import YOLO\n",
    "\n",
    "model = YOLO(\"/N/u/athshah/BigRed200/runs/segment/train7/weights/best.pt\")\n",
    "image_path  = \"/N/u/athshah/BigRed200/DCGAN/seed0003.png\"\n",
    "\n",
    "model.predict(image_path,save = True,hide_labels = True,conf = 0.6)"
   ]
  },
  {
   "cell_type": "code",
   "execution_count": null,
   "id": "86502611",
   "metadata": {},
   "outputs": [],
   "source": []
  }
 ],
 "metadata": {
  "kernelspec": {
   "display_name": "Python 3 (ipykernel)",
   "language": "python",
   "name": "python3"
  },
  "language_info": {
   "codemirror_mode": {
    "name": "ipython",
    "version": 3
   },
   "file_extension": ".py",
   "mimetype": "text/x-python",
   "name": "python",
   "nbconvert_exporter": "python",
   "pygments_lexer": "ipython3",
   "version": "3.10.5"
  }
 },
 "nbformat": 4,
 "nbformat_minor": 5
}
